{
 "cells": [
  {
   "cell_type": "markdown",
   "metadata": {},
   "source": [
    "<h2>CS 3780/5780 Creative Project: </h2>\n",
    "<h3>Emotion Classification of Natural Language</h3>\n",
    "\n",
    "Names and NetIDs for your group members: Alexia Adams (aa862),\n",
    "Matthew Mentis-Cort (mam692)"
   ]
  },
  {
   "cell_type": "markdown",
   "metadata": {},
   "source": [
    "<h3>Introduction:</h3>\n",
    "\n",
    "<p> The creative project is about conducting a real-world machine learning project on your own, with everything that is involved. Unlike in the programming projects 1-5, where we gave you all the scaffolding and you just filled in the blanks, you now start from scratch. The past programming projects provide templates for how to do this (and you can reuse part of your code if you wish), and the lectures provide some of the methods you can use. So, this creative project brings realism to how you will use machine learning in the real world.  </p>\n",
    "\n",
    "The task you will work on is classifying texts to human emotions. Through words, humans express feelings, articulate thoughts, and communicate our deepest needs and desires. Language helps us interpret the nuances of joy, sadness, anger, and love, allowing us to connect with others on a deeper level. Are you able to train an ML model that recognizes the human emotions expressed in a piece of text? <b>Please read the project description PDF file carefully and follow the instructions there. Also make sure you write your code and answers to all the questions in this Jupyter Notebook </b> </p>\n",
    "<p>\n"
   ]
  },
  {
   "cell_type": "markdown",
   "metadata": {},
   "source": [
    "<h2>Part 0: Basics</h2><p>"
   ]
  },
  {
   "cell_type": "markdown",
   "metadata": {},
   "source": [
    "<h3>0.1 Import:</h3><p>\n",
    "Please import necessary packages to use. Note that learning and using packages are recommended but not required for this project. Some official tutorial for suggested packacges includes:\n",
    "    \n",
    "https://scikit-learn.org/stable/tutorial/basic/tutorial.html\n",
    "    \n",
    "https://pytorch.org/tutorials/\n",
    "    \n",
    "https://pandas.pydata.org/pandas-docs/stable/user_guide/10min.html\n",
    "<p>"
   ]
  },
  {
   "cell_type": "code",
   "execution_count": 10,
   "metadata": {},
   "outputs": [],
   "source": [
    "import os\n",
    "import pandas as pd\n",
    "import numpy as np\n",
    "import torch\n",
    "import sklearn\n",
    "import re"
   ]
  },
  {
   "cell_type": "markdown",
   "metadata": {},
   "source": [
    "<h3>0.2 Accuracy and Mean Squared Error:</h3><p>\n",
    "To measure your performance in the Kaggle Competition, we are using accuracy. As a recap, accuracy is the percent of labels you predict correctly. To measure this, you can use library functions from sklearn. A simple example is shown below. \n",
    "<p>"
   ]
  },
  {
   "cell_type": "code",
   "execution_count": 2,
   "metadata": {},
   "outputs": [
    {
     "data": {
      "text/plain": [
       "0.42857142857142855"
      ]
     },
     "execution_count": 2,
     "metadata": {},
     "output_type": "execute_result"
    }
   ],
   "source": [
    "from sklearn.metrics import accuracy_score\n",
    "y_pred = [3, 2, 1, 0, 1, 2, 3]\n",
    "y_true = [0, 1, 2, 3, 1, 2, 3]\n",
    "accuracy_score(y_true, y_pred)"
   ]
  },
  {
   "cell_type": "markdown",
   "metadata": {},
   "source": [
    "<h2>Part 1: Basic</h2><p>\n",
    "Note that your code should be commented well and in part 1.4 you can refer to your comments."
   ]
  },
  {
   "cell_type": "markdown",
   "metadata": {},
   "source": [
    "<h3>1.1 Load and preprocess the dataset:</h3><p>\n",
    "We provide how to load the data on Kaggle's Notebook.\n",
    "<p>"
   ]
  },
  {
   "cell_type": "code",
   "execution_count": null,
   "metadata": {},
   "outputs": [],
   "source": [
    "# train = pd.read_csv(\"/kaggle/input/cs-3780-5780-how-do-you-feel/train.csv\")\n",
    "train = pd.read_csv(\"train.csv\")\n",
    "train_text = train[\"text\"]\n",
    "train_label = train[\"label\"]\n",
    "\n",
    "# test = pd.read_csv(\"/kaggle/input/cs-3780-5780-how-do-you-feel/test.csv\")\n",
    "test = pd.read_csv(\"test.csv\")\n",
    "test_id = test[\"id\"]\n",
    "test_text = test[\"text\"]"
   ]
  },
  {
   "cell_type": "code",
   "execution_count": null,
   "metadata": {},
   "outputs": [
    {
     "name": "stdout",
     "output_type": "stream",
     "text": [
      "['hello', 'user123', '245', 'doggies', 'hsdikj']\n"
     ]
    }
   ],
   "source": [
    "# Make sure you comment your code clearly and you may refer to these comments in the part 1.4\n",
    "\n",
    "# Change all letters into lowercase\n",
    "# def preprocess_words(text):\n",
    "#   text = text.lower()\n",
    "#   text = re.sub(\"[^\\w\\s]\", \" \", text)\n",
    "#   text = text.split()\n",
    "#   return text\n",
    "\n",
    "# print(preprocess_words(\"Hello user123 245 doggies!...!hsdikj\"))"
   ]
  },
  {
   "cell_type": "code",
   "execution_count": 179,
   "metadata": {},
   "outputs": [
    {
     "name": "stdout",
     "output_type": "stream",
     "text": [
      "['00' '000' '05' ... 'zooming' 'zuhir' 'zygi']\n",
      "[[0 0 0 ... 0 0 0]\n",
      " [0 0 0 ... 0 0 0]\n",
      " [0 0 0 ... 0 0 0]\n",
      " ...\n",
      " [0 0 0 ... 0 0 0]\n",
      " [0 0 0 ... 0 0 0]\n",
      " [0 0 0 ... 0 0 0]]\n"
     ]
    }
   ],
   "source": [
    "# Bag of Words\n",
    "from sklearn.feature_extraction.text import CountVectorizer\n",
    "\n",
    "vectorizer = CountVectorizer()\n",
    "X1 = vectorizer.fit_transform(train_text.to_list()) \n",
    "X1 = X1.toarray()\n",
    "print(vectorizer.get_feature_names_out())\n",
    "print(X1)\n"
   ]
  },
  {
   "cell_type": "markdown",
   "metadata": {},
   "source": [
    "<h3>1.2 Use At Least Two Training Algorithms from class:</h3><p>\n",
    "You need to use at least two training algorithms from class. You can use your code from previous projects or any packages you imported in part 0.1."
   ]
  },
  {
   "cell_type": "markdown",
   "metadata": {},
   "source": [
    "<h5>Naive Bayes</h5>"
   ]
  },
  {
   "cell_type": "code",
   "execution_count": 67,
   "metadata": {},
   "outputs": [
    {
     "name": "stdout",
     "output_type": "stream",
     "text": [
      "[0.0003, 0.2229, 0.002, 0.0076, 0.0846, 0.002, 0.0059, 0.0017, 0.0136, 0.1018, 0.0132, 0.0083, 0.0863, 0.0009, 0.0033, 0.0074, 0.0313, 0.022, 0.0086, 0.0057, 0.0064, 0.2512, 0.0107, 0.0063, 0.0098, 0.0193, 0.0006, 0.0663]\n"
     ]
    }
   ],
   "source": [
    "# Make sure you comment your code clearly and you may refer to these comments in the part 1.4\n",
    "# Naive Bayes\n",
    "\n",
    "def naivebayesPY(x,y):\n",
    "    \"\"\"\n",
    "    function [pos,neg] = naivebayesPY(x,y);\n",
    "\n",
    "    Computation of P(Y)\n",
    "    Input:\n",
    "        x : n input vectors of d dimensions (n,d)\n",
    "        y : n labels (one of 0 to 27) (n,)\n",
    "\n",
    "    Output:\n",
    "    probs: [prob p(y=0), ..., prob p(y=27)\n",
    "    \"\"\"\n",
    "    \n",
    "    n = float(len(y))\n",
    "    probs = []\n",
    "    for i in range(28):\n",
    "        probs.append(np.count_nonzero(y == i) / n)\n",
    "    return probs\n",
    "\n",
    "probs = naivebayesPY(X1,train_label)\n",
    "print(probs)"
   ]
  },
  {
   "cell_type": "code",
   "execution_count": 68,
   "metadata": {},
   "outputs": [],
   "source": [
    "# def naivebayesPXY_mle(x,y):\n",
    "#     \"\"\"\n",
    "#     function [posprob,negprob] = naivebayesPXY(x,y);\n",
    "    \n",
    "#     Computation of P(X|Y) -- Maximum Likelihood Estimate\n",
    "#     Input:\n",
    "#         x : n input vectors of d dimensions (n,d)\n",
    "#         y : n labels (-1 or +1) (n,)\n",
    "    \n",
    "#     Output:\n",
    "#     labelprobs: list of probability vectors of p(x|y=c) for c = 0..27\n",
    "#     \"\"\"\n",
    "    \n",
    "#     # MLE = num of times letter x occurs in examples of class y / num of training examples in class y\n",
    "        \n",
    "#     # indices of positive and negative examples\n",
    "#     labelprobs = []\n",
    "#     for i in range(28):\n",
    "#         indices = np.argwhere(y == i).flatten()\n",
    "#         mat = x[indices]\n",
    "#         word_num = np.sum(mat, axis = 0)\n",
    "#         my = np.sum(mat)\n",
    "#         prob = word_num / my\n",
    "#         labelprobs.append(prob)\n",
    "    \n",
    "#     return labelprobs"
   ]
  },
  {
   "cell_type": "code",
   "execution_count": 69,
   "metadata": {},
   "outputs": [
    {
     "name": "stdout",
     "output_type": "stream",
     "text": [
      "[7.9987202e-05 7.9987202e-05 7.9987202e-05 ... 7.9987202e-05 7.9987202e-05\n",
      " 7.9987202e-05]\n",
      "[-9.43364391 -9.43364391 -9.43364391 ... -9.43364391 -9.43364391\n",
      " -9.43364391]\n"
     ]
    }
   ],
   "source": [
    "def naivebayesPXY_smoothing(x,y):\n",
    "    \"\"\"\n",
    "    function [posprob,negprob] = naivebayesPXY(x,y);\n",
    "    \n",
    "    Computation of P(X|Y) -- Smoothing with Laplace estimate\n",
    "    Input:\n",
    "        x : n input vectors of d dimensions (n,d)\n",
    "        y : n labels (-1 or +1) (n,)\n",
    "    \n",
    "    Output:\n",
    "    posprob: probability vector of p(x|y=1) (d,)\n",
    "    negprob: probability vector of p(x|y=-1) (d,)\n",
    "    \"\"\"\n",
    "\n",
    "    labelprobs = []\n",
    "    for i in range(28):\n",
    "        indices = np.argwhere(y == i).flatten()\n",
    "        mat = x[indices]\n",
    "        my = np.sum(mat)\n",
    "        counts = np.sum(mat, axis = 0)\n",
    "        sz = x.shape[1]\n",
    "        prob = (counts + 1) / (my + sz)\n",
    "        labelprobs.append(prob)\n",
    "    \n",
    "    return labelprobs\n",
    "\n",
    "\n",
    "labelprobs_smooth = naivebayesPXY_smoothing(X1,train_label)\n",
    "print(labelprobs_smooth[0])\n",
    "print(np.log(labelprobs_smooth[0]))"
   ]
  },
  {
   "cell_type": "code",
   "execution_count": 72,
   "metadata": {},
   "outputs": [
    {
     "name": "stdout",
     "output_type": "stream",
     "text": [
      "[5089.43147551154, 5174.150515815636, 5098.710645558325, 5112.028759127901, 5152.347922920856, 5095.972574763642, 5109.754241822797, 5097.2033616504505, 5130.078641659289, 5155.940571039226, 5124.384718016387, 5121.456134968628, 5149.6848577174305, 5087.915154299675, 5105.915324910709, 5113.159007071219, 5142.742544560602, 5129.703925189277, 5115.411423312182, 5111.633737414264, 5112.249152230286, 5166.448503937652, 5114.535866825303, 5114.174007151845, 5120.560905453924, 5128.006934354529, 5088.0381428395995, 5148.262661322493]\n"
     ]
    }
   ],
   "source": [
    "def naivebayes(x,y,xtest,naivebayesPXY):\n",
    "    \"\"\"\n",
    "    function logratio = naivebayes(x,y);\n",
    "    \n",
    "    Computation of log P(Y|X=x1) using Bayes Rule\n",
    "    Input:\n",
    "    x : n input vectors of d dimensions (n,d)\n",
    "    y : n labels (-1 or +1) (n,)\n",
    "    xtest: input vector of d dimensions (d,)\n",
    "    naivebayesPXY: input function for getting conditional probabilities (naivebayesPXY_smoothing)\n",
    "    \n",
    "    Output:\n",
    "    logratio: log (P(Y = 1|X=xtest)/P(Y=-1|X=xtest))\n",
    "    \"\"\"\n",
    "\n",
    "    labels_Y = naivebayesPY(x, y)   \n",
    "    labelprobs = naivebayesPXY(x, y)\n",
    "    \n",
    "    # summation of (num occurrences of word) * log(probability of letter)\n",
    "    pxy_lst = []\n",
    "    for i in range(28):\n",
    "      # print(\"here: \", labelprobs[i])\n",
    "      px_y = np.sum(np.multiply(xtest, np.log(labelprobs[i])))\n",
    "      pxy_lst.append(px_y)\n",
    "      # print(px_y)\n",
    "\n",
    "    logratios = []\n",
    "    for i in range(28):\n",
    "      numerator = np.log(labels_Y[i]) + pxy_lst[i]\n",
    "      denominator = 0\n",
    "      for j in range(28):\n",
    "         if i != j:\n",
    "           denominator = denominator + np.log(labels_Y[j]) + pxy_lst[j]  \n",
    "      logratios.append(numerator - denominator)\n",
    "    \n",
    "    return logratios\n",
    "\n",
    "p_sm = naivebayes(X1, train_label, X1[0,:], naivebayesPXY_smoothing)\n",
    "print(p_sm)"
   ]
  },
  {
   "cell_type": "code",
   "execution_count": 163,
   "metadata": {},
   "outputs": [],
   "source": [
    "def naivebayesCL(x,y,naivebayesPXY):\n",
    "    \"\"\"\n",
    "    function [w,b]=naivebayesCL(x,y);\n",
    "    Implementation of a Naive Bayes classifier\n",
    "    Input:\n",
    "    x : n input vectors of d dimensions (n,d)\n",
    "    y : n labels (-1 or +1) (n,)\n",
    "    naivebayesPXY: input function for getting conditional probabilities (naivebayesPXY_smoothing OR naivebayesPXY_mle)\n",
    "\n",
    "    Output:\n",
    "    w : weight vector of d dimensions (d,)\n",
    "    b : bias (scalar)\n",
    "    \"\"\"\n",
    "    \n",
    "    n, d = x.shape\n",
    "    \n",
    "    # bias\n",
    "    probs_Y = naivebayesPY(x, y)\n",
    "    bs = []\n",
    "    for i in range(28):\n",
    "        numer = probs_Y[i]\n",
    "        denom = 1 - probs_Y[i]\n",
    "        b = np.log(numer / denom)\n",
    "        bs.append(b)\n",
    "    \n",
    "    # weight (vector of d dimensions)\n",
    "    pxy_probs = naivebayesPXY(x, y)\n",
    "    ws = []\n",
    "    for i in range(28):\n",
    "        numerator = pxy_probs[i]\n",
    "        denominator = 0\n",
    "        for j in range(28):\n",
    "           if i != j:\n",
    "             denominator = denominator + pxy_probs[j]  \n",
    "        w = np.log(numerator / denominator)\n",
    "        ws.append(w)\n",
    "        \n",
    "    return ws, bs\n",
    "\n",
    "\n",
    "weights_sm,biases_sm = naivebayesCL(X1,train_label, naivebayesPXY_smoothing)"
   ]
  },
  {
   "cell_type": "code",
   "execution_count": 172,
   "metadata": {},
   "outputs": [],
   "source": [
    "def classifyLinear(x,ws,bs):\n",
    "    \"\"\"\n",
    "    function preds=classifyLinear(x,w,b);\n",
    "    \n",
    "    Make predictions with a linear classifier. Predictions should be signed. \n",
    "    Input:\n",
    "    x : n input vectors of d dimensions (n,d)\n",
    "    w : weight vector of d dimensions (d,)\n",
    "    b : bias\n",
    "    \n",
    "    Output:\n",
    "    preds: predictions\n",
    "    \"\"\"\n",
    "    ws = np.array(ws)\n",
    "    bs = np.array(bs)\n",
    "    print(x.shape)\n",
    "    print(ws.shape)\n",
    "    print(bs.shape)\n",
    "    val = np.argmax(x @ ws.T + bs, axis=1)\n",
    "    return val"
   ]
  },
  {
   "cell_type": "code",
   "execution_count": 176,
   "metadata": {},
   "outputs": [
    {
     "name": "stdout",
     "output_type": "stream",
     "text": [
      "(10000, 12458)\n",
      "(28, 12458)\n",
      "(28,)\n",
      "Training error (Smoothing with Laplace estimate): 34.00%\n"
     ]
    }
   ],
   "source": [
    "print('Training error (Smoothing with Laplace estimate): %.2f%%' % (100 *(classifyLinear(X1, weights_sm, biases_sm) != train_label).mean()))"
   ]
  },
  {
   "cell_type": "markdown",
   "metadata": {},
   "source": [
    "<h5>Other Model</h5>"
   ]
  },
  {
   "cell_type": "code",
   "execution_count": null,
   "metadata": {},
   "outputs": [],
   "source": []
  },
  {
   "cell_type": "markdown",
   "metadata": {},
   "source": [
    "<h3>1.3 Training, Validation and Model Selection:</h3><p>\n",
    "You need to split your data to a training set and validation set or performing a cross-validation for model selection."
   ]
  },
  {
   "cell_type": "code",
   "execution_count": 180,
   "metadata": {},
   "outputs": [
    {
     "name": "stdout",
     "output_type": "stream",
     "text": [
      "(15000, 12458)\n",
      "(28, 12458)\n",
      "(28,)\n"
     ]
    },
    {
     "data": {
      "text/plain": [
       "array([27, 21, 21, ..., 12,  1,  1])"
      ]
     },
     "execution_count": 180,
     "metadata": {},
     "output_type": "execute_result"
    }
   ],
   "source": [
    "# Make sure you comment your code clearly and you may refer to these comments in the part 1.4\n",
    "\n",
    "# Naive Bayes\n",
    "X_test_nb = vectorizer.transform(test_text.to_list()) \n",
    "\n",
    "# p_sm = naivebayes(X1, train_label, test_text, naivebayesPXY_smoothing)\n",
    "# weights_test_nb,biases_test_nb = naivebayesCL(train_text,train_label, naivebayesPXY_smoothing)\n",
    "# classifyLinear(test_text, weights_test_nb, biases_test_nb)\n",
    "\n",
    "classifyLinear(X_test_nb, weights_sm,biases_sm)"
   ]
  },
  {
   "cell_type": "markdown",
   "metadata": {},
   "source": [
    "<h3>1.4 Explanation in Words:</h3><p>\n",
    "    You need to answer the following questions in the markdown cell after this cell:"
   ]
  },
  {
   "cell_type": "markdown",
   "metadata": {},
   "source": [
    "1.4.1 How did you formulate the learning problem?\n",
    "\n",
    "1.4.2 Which two learning methods from class did you choose and why did you made the choices?\n",
    "\n",
    "1.4.3 How did you do the model selection?\n",
    "\n",
    "1.4.4 Does the test performance reach the first baseline \"Tiny Piney\"? (Please include a screenshot of Kaggle Submission)"
   ]
  },
  {
   "cell_type": "markdown",
   "metadata": {},
   "source": [
    "<h2>Part 2: Be creative!</h2><p>"
   ]
  },
  {
   "cell_type": "markdown",
   "metadata": {},
   "source": [
    "<h3>2.1 Open-ended Code:</h3><p>\n",
    "You may follow the steps in part 1 again but making innovative changes like using new training algorithms, etc. Make sure you explain everything clearly in part 2.2. Note that beating \"Zero Hero\" is only a small portion of this part. Any creative ideas will receive most points as long as they are reasonable and clearly explained."
   ]
  },
  {
   "cell_type": "code",
   "execution_count": null,
   "metadata": {},
   "outputs": [],
   "source": [
    "# Make sure you comment your code clearly and you may refer to these comments in the part 2.2\n",
    "# TODO"
   ]
  },
  {
   "cell_type": "markdown",
   "metadata": {},
   "source": [
    "<h3>2.2 Explanation in Words:</h3><p>\n",
    "You need to answer the following questions in a markdown cell after this cell:"
   ]
  },
  {
   "cell_type": "markdown",
   "metadata": {},
   "source": [
    "2.2.1 How much did you manage to improve performance on the test set? Did you beat \"Zero Hero\" in Kaggle? (Please include a screenshot of Kaggle Submission)\n",
    "\n",
    "2.2.2 Please explain in detail how you achieved this and what you did specifically and why you tried this."
   ]
  },
  {
   "cell_type": "markdown",
   "metadata": {},
   "source": [
    "<h2>Part 3: Kaggle Submission</h2><p>\n",
    "You need to generate a prediction CSV using the following cell from your trained model and submit the direct output of your code to Kaggle. The results should be presented in two columns in csv format: the first column is the data id (0-14999) and the second column includes the predictions for the test set. The first column must be named id and the second column must be named label (otherwise your submission will fail). A sample predication file can be downloaded from Kaggle for each problem. \n",
    "We provide how to save a csv file if you are running Notebook on Kaggle."
   ]
  },
  {
   "cell_type": "code",
   "execution_count": 182,
   "metadata": {},
   "outputs": [
    {
     "name": "stdout",
     "output_type": "stream",
     "text": [
      "(15000, 12458)\n",
      "(28, 12458)\n",
      "(28,)\n"
     ]
    }
   ],
   "source": [
    "id = range(len(test_id))\n",
    "prediction = classifyLinear(X_test_nb, weights_sm,biases_sm)\n",
    "submission = pd.DataFrame({'id': id, 'label': prediction})\n",
    "# submission.to_csv('/kaggle/working/submission.csv', index=False)\n",
    "submission.to_csv('submission.csv', index=False)"
   ]
  },
  {
   "cell_type": "code",
   "execution_count": 1,
   "metadata": {},
   "outputs": [],
   "source": [
    "# TODO\n",
    "\n",
    "# You may use pandas to generate a dataframe with country, date and your predictions first \n",
    "# and then use to_csv to generate a CSV file."
   ]
  },
  {
   "cell_type": "markdown",
   "metadata": {},
   "source": [
    "<h2>Part 4: Resources and Literature Used</h2><p>"
   ]
  },
  {
   "cell_type": "markdown",
   "metadata": {},
   "source": [
    "Please cite the papers and open resources you used."
   ]
  },
  {
   "cell_type": "markdown",
   "metadata": {},
   "source": []
  }
 ],
 "metadata": {
  "kernelspec": {
   "display_name": "venv",
   "language": "python",
   "name": "python3"
  },
  "language_info": {
   "codemirror_mode": {
    "name": "ipython",
    "version": 3
   },
   "file_extension": ".py",
   "mimetype": "text/x-python",
   "name": "python",
   "nbconvert_exporter": "python",
   "pygments_lexer": "ipython3",
   "version": "3.12.2"
  }
 },
 "nbformat": 4,
 "nbformat_minor": 4
}
